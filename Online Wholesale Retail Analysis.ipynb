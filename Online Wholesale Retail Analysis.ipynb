{
 "cells": [
  {
   "cell_type": "markdown",
   "metadata": {},
   "source": [
    "# Overview\n",
    "***\n",
    "This dataset contains all transactions of a UK-based online retail shop. Many of the shop's customers are wholesalers. We will start with checking for any missing values and for inconsistencies in the data. \n",
    "\n",
    "## Objective\n",
    "- The purpose of this notebook is to show three different ways that a company could segment their customers.\n",
    "- In this notebook we will also identify who are our best customers, which countries are generating most of our sales, and which items sell the most. \n",
    "- The three techniques we will use to segment our customers are \"Customer Lifetime Value, \"RFM Analysis\", and \"Kmeans clustering\".\n",
    "\n",
    "## Project Workflow\n",
    "The notebook will be split into 5 parts\n",
    "1. Data Cleaning\n",
    "2. Exploratory Data Analysis\n",
    "3. Customer Lifetime Value\n",
    "4. RFM Analysis\n",
    "5. K-Means Clustering\n",
    "\n",
    "## Column info\n",
    "- InVoice: Transaction code. Unique 6 digit number. \"C\" at the start equals cancellation.\n",
    "- Stock Code: Product code. Nominal, a unique 5 digit number.\n",
    "- Description: Product name.\n",
    "- Quantity: The quantities of each product per transaction.\n",
    "- InvoiceDate: Invoice date and time (when transaction was generated).\n",
    "- UnitPrice: Product price per unit in sterling.\n",
    "- CustomerID: Unique 5 digit number assigned to customers.\n",
    "- Country: The name of the country where each customer resides.\n",
    "***"
   ]
  },
  {
   "cell_type": "code",
   "execution_count": 1,
   "metadata": {},
   "outputs": [],
   "source": [
    "import numpy as np\n",
    "import pandas as pd\n",
    "import matplotlib.pyplot as plt\n",
    "import seaborn as sns\n",
    "sns.set_style(\"whitegrid\")\n",
    "import re\n",
    "import datetime as dt\n",
    "from scipy.stats import norm\n",
    "from sklearn.preprocessing import MinMaxScaler\n",
    "from sklearn.cluster import KMeans\n",
    "from sklearn.metrics import silhouette_score\n",
    "from sklearn.pipeline import Pipeline\n",
    "import dash\n",
    "df = pd.read_csv(\"data/e-commerce.csv\", encoding=\"unicode_escape\")"
   ]
  },
  {
   "cell_type": "markdown",
   "metadata": {},
   "source": [
    "### 1. Data Cleaning"
   ]
  },
  {
   "cell_type": "code",
   "execution_count": 2,
   "metadata": {},
   "outputs": [
    {
     "name": "stdout",
     "output_type": "stream",
     "text": [
      "  InvoiceNo StockCode                          Description  Quantity  \\\n",
      "0    536365    85123A   WHITE HANGING HEART T-LIGHT HOLDER         6   \n",
      "1    536365     71053                  WHITE METAL LANTERN         6   \n",
      "2    536365    84406B       CREAM CUPID HEARTS COAT HANGER         8   \n",
      "3    536365    84029G  KNITTED UNION FLAG HOT WATER BOTTLE         6   \n",
      "4    536365    84029E       RED WOOLLY HOTTIE WHITE HEART.         6   \n",
      "\n",
      "      InvoiceDate  UnitPrice  CustomerID         Country  \n",
      "0  12/1/2010 8:26       2.55     17850.0  United Kingdom  \n",
      "1  12/1/2010 8:26       3.39     17850.0  United Kingdom  \n",
      "2  12/1/2010 8:26       2.75     17850.0  United Kingdom  \n",
      "3  12/1/2010 8:26       3.39     17850.0  United Kingdom  \n",
      "4  12/1/2010 8:26       3.39     17850.0  United Kingdom  \n",
      "\n",
      "\n",
      "<class 'pandas.core.frame.DataFrame'>\n",
      "RangeIndex: 541909 entries, 0 to 541908\n",
      "Data columns (total 8 columns):\n",
      " #   Column       Non-Null Count   Dtype  \n",
      "---  ------       --------------   -----  \n",
      " 0   InvoiceNo    541909 non-null  object \n",
      " 1   StockCode    541909 non-null  object \n",
      " 2   Description  540455 non-null  object \n",
      " 3   Quantity     541909 non-null  int64  \n",
      " 4   InvoiceDate  541909 non-null  object \n",
      " 5   UnitPrice    541909 non-null  float64\n",
      " 6   CustomerID   406829 non-null  float64\n",
      " 7   Country      541909 non-null  object \n",
      "dtypes: float64(2), int64(1), object(5)\n",
      "memory usage: 33.1+ MB\n",
      "None\n",
      "\n",
      "\n",
      "InvoiceNo           0\n",
      "StockCode           0\n",
      "Description      1454\n",
      "Quantity            0\n",
      "InvoiceDate         0\n",
      "UnitPrice           0\n",
      "CustomerID     135080\n",
      "Country             0\n",
      "dtype: int64\n",
      "\n",
      "\n",
      "            Quantity      UnitPrice     CustomerID\n",
      "count  541909.000000  541909.000000  406829.000000\n",
      "mean        9.552250       4.611114   15287.690570\n",
      "std       218.081158      96.759853    1713.600303\n",
      "min    -80995.000000  -11062.060000   12346.000000\n",
      "25%         1.000000       1.250000   13953.000000\n",
      "50%         3.000000       2.080000   15152.000000\n",
      "75%        10.000000       4.130000   16791.000000\n",
      "max     80995.000000   38970.000000   18287.000000\n"
     ]
    }
   ],
   "source": [
    "print(df.head(5))\n",
    "print(\"\\n\")\n",
    "print(df.info())\n",
    "print(\"\\n\")\n",
    "print(df.isna().sum())\n",
    "print(\"\\n\")\n",
    "print(df.describe())"
   ]
  },
  {
   "cell_type": "markdown",
   "metadata": {},
   "source": [
    "- It appears that we have several missing values for the \"Description\"(1454) and \"CustomerID\"(135080) columns. Maybe we should explore them for further details.\n",
    "- Also, we see that the minimum values for Quantity and UnitPrice are large negative numbers which warrants an investigation into why."
   ]
  },
  {
   "cell_type": "code",
   "execution_count": 3,
   "metadata": {},
   "outputs": [
    {
     "name": "stdout",
     "output_type": "stream",
     "text": [
      "<class 'pandas.core.frame.DataFrame'>\n",
      "Int64Index: 406829 entries, 0 to 541908\n",
      "Data columns (total 8 columns):\n",
      " #   Column       Non-Null Count   Dtype  \n",
      "---  ------       --------------   -----  \n",
      " 0   InvoiceNo    406829 non-null  object \n",
      " 1   StockCode    406829 non-null  object \n",
      " 2   Description  406829 non-null  object \n",
      " 3   Quantity     406829 non-null  int64  \n",
      " 4   InvoiceDate  406829 non-null  object \n",
      " 5   UnitPrice    406829 non-null  float64\n",
      " 6   CustomerID   406829 non-null  float64\n",
      " 7   Country      406829 non-null  object \n",
      "dtypes: float64(2), int64(1), object(5)\n",
      "memory usage: 27.9+ MB\n"
     ]
    }
   ],
   "source": [
    "pct_na = df[df[\"CustomerID\"].isna()].shape[0]\n",
    "df_shape = df.shape[0]\n",
    "pct_na/df_shape\n",
    "\n",
    "df[df[\"Description\"].isna()].head(30)\n",
    "not_guests = df.copy()\n",
    "not_guests = not_guests[not_guests[\"CustomerID\"].notna()]\n",
    "not_guests.info()"
   ]
  },
  {
   "cell_type": "markdown",
   "metadata": {},
   "source": [
    "- It appears that about 25% of the \"CustomerID's\" have missing values. Since our purpose is to identify specific customers we made a copy of the first dataframe that removes the customers that do not have any ID's.\n",
    "- We now have a dataframe with no null values with about 406,829 rows.\n",
    "- We know from the dataset description that some orders are cancelled orders. Let's check on those to see if we notice anything."
   ]
  },
  {
   "cell_type": "code",
   "execution_count": 4,
   "metadata": {},
   "outputs": [
    {
     "name": "stdout",
     "output_type": "stream",
     "text": [
      "Cancelled orders PCT in original df: 1.71%\n",
      "Cancelled orders PCT in not_guests dataframe: 2.19%\n"
     ]
    }
   ],
   "source": [
    "cancelled_not_guests = not_guests[not_guests[\"InvoiceNo\"].str.startswith(\"C\")]\n",
    "cancelled_df = df[df[\"InvoiceNo\"].str.startswith(\"C\")]\n",
    "pct1 = round(((cancelled_df.shape[0]/df.shape[0])*100), 2)\n",
    "pct2 = round(((cancelled_not_guests.shape[0] / not_guests.shape[0])*100), 2)\n",
    "print(f\"Cancelled orders PCT in original df: {pct1}%\")\n",
    "print(f\"Cancelled orders PCT in not_guests dataframe: {pct2}%\")"
   ]
  },
  {
   "cell_type": "markdown",
   "metadata": {},
   "source": [
    "- We find that \"cancelled\" orders only make up about 1.71% in the original dataframe, while they make up about 2.19% in the \"not_guests\" dataframe we created.\n",
    "- We find something peculiar, we see that this dataset has discounts present in it with a stock code of \"D\" something that was not mentioned in the dataset description. Also, there is something labeled as \"Manuel\".\n",
    "- We also see that a cancelled order does not necessarily mean that the order was completely cancelled.\n",
    "- It appears some cancelled orders have special stock codes representing different things. Let's see if we can track down all unique ones."
   ]
  },
  {
   "cell_type": "code",
   "execution_count": 5,
   "metadata": {},
   "outputs": [
    {
     "name": "stdout",
     "output_type": "stream",
     "text": [
      "POST            1256\n",
      "DOT              710\n",
      "M                571\n",
      "C2               144\n",
      "D                 77\n",
      "S                 63\n",
      "BANK CHARGES      37\n",
      "AMAZONFEE         34\n",
      "CRUK              16\n",
      "DCGSSGIRL         13\n",
      "DCGSSBOY          11\n",
      "gift_0001_20      10\n",
      "gift_0001_10       9\n",
      "gift_0001_30       8\n",
      "DCGS0003           5\n",
      "gift_0001_50       4\n",
      "PADS               4\n",
      "gift_0001_40       3\n",
      "B                  3\n",
      "DCGS0069           2\n",
      "DCGS0076           2\n",
      "DCGS0070           2\n",
      "DCGS0074           1\n",
      "DCGS0066P          1\n",
      "DCGS0072           1\n",
      "DCGS0057           1\n",
      "DCGS0071           1\n",
      "DCGS0067           1\n",
      "DCGS0068           1\n",
      "m                  1\n",
      "DCGS0004           1\n",
      "DCGS0055           1\n",
      "DCGS0073           1\n",
      "Name: StockCode, dtype: int64\n",
      "M       175\n",
      "POST     97\n",
      "D        77\n",
      "CRUK     16\n",
      "C2        1\n",
      "Name: StockCode, dtype: int64\n"
     ]
    }
   ],
   "source": [
    "special_df = df[df.StockCode.str.contains(\"^[a-zA-Z]+\", regex=True)]\n",
    "special_stock = cancelled_not_guests[cancelled_not_guests.StockCode.str.contains(\"^[a-zA-Z]+\", regex=True)]\n",
    "print(special_df[\"StockCode\"].value_counts())\n",
    "print(special_stock[\"StockCode\"].value_counts())"
   ]
  },
  {
   "cell_type": "markdown",
   "metadata": {},
   "source": [
    "- It seems that the original dataframe was littered with special stock codes ranging from discounts, gift vouchers, bank charges, Amazon fee's, etc. With no customer ID's to tie the special stock codes to any customer. Let's move on with the dataframe that we made with no missing customer ID's."
   ]
  },
  {
   "cell_type": "markdown",
   "metadata": {},
   "source": [
    "### 2. Exploratory Data Analysis"
   ]
  },
  {
   "cell_type": "code",
   "execution_count": 6,
   "metadata": {},
   "outputs": [],
   "source": [
    "cleaned_df = not_guests.copy()\n",
    "cleaned_df = cleaned_df[~cleaned_df[\"InvoiceNo\"].str.startswith(\"C\")]"
   ]
  },
  {
   "cell_type": "code",
   "execution_count": 7,
   "metadata": {},
   "outputs": [],
   "source": [
    "cleaned_df[\"InvoiceDate\"] = pd.to_datetime(cleaned_df[\"InvoiceDate\"])\n",
    "cleaned_df[\"Revenue\"] = cleaned_df[\"Quantity\"] * cleaned_df[\"UnitPrice\"]"
   ]
  },
  {
   "cell_type": "code",
   "execution_count": 8,
   "metadata": {},
   "outputs": [
    {
     "name": "stdout",
     "output_type": "stream",
     "text": [
      "           Country       Revenue  Percentage Total Sales\n",
      "35  United Kingdom  7.308392e+06                0.880818\n",
      "23     Netherlands  2.854463e+05                0.034402\n",
      "10            EIRE  2.655459e+05                0.032004\n",
      "14         Germany  2.288671e+05                0.027583\n",
      "13          France  2.090240e+05                0.025192\n"
     ]
    },
    {
     "data": {
      "image/png": "[encoded data removed]",
      "text/plain": [
       "<Figure size 576x576 with 1 Axes>"
      ]
     },
     "metadata": {},
     "output_type": "display_data"
    }
   ],
   "source": [
    "revenue_countries = cleaned_df.groupby(\"Country\", as_index=False)[\"Revenue\"].sum().sort_values(\"Revenue\", ascending=False).head(5)\n",
    "revenue_countries[\"Percentage Total Sales\"] = revenue_countries[\"Revenue\"] / revenue_countries[\"Revenue\"].sum() \n",
    "print(revenue_countries.sort_values(by=\"Percentage Total Sales\", ascending=False))\n",
    "sns.catplot(data=revenue_countries, kind=\"bar\", x=\"Country\", y=\"Revenue\", height=8);\n",
    "plt.title(\"Top 5 Countries in terms of Revenue\");"
   ]
  },
  {
   "cell_type": "markdown",
   "metadata": {},
   "source": [
    "- It's no surprise that the United Kingdom is the top country in revenue generated. This wholesaler is based in the U.K!\n",
    "- However, the size of revenue percentage is a little jarring, the U.K makes up about 88% of all revenue! "
   ]
  },
  {
   "cell_type": "code",
   "execution_count": 9,
   "metadata": {},
   "outputs": [
    {
     "name": "stdout",
     "output_type": "stream",
     "text": [
      "              InvoiceDate    Revenue\n",
      "17256 2011-12-09 09:15:00  168469.60\n",
      "1778  2011-01-18 10:01:00   77183.60\n",
      "7469  2011-06-10 15:28:00   39597.40\n",
      "11689 2011-09-20 11:05:00   31698.16\n",
      "7644  2011-06-15 13:37:00   23426.81\n"
     ]
    },
    {
     "data": {
      "image/png": "[encoded data removed]",
      "text/plain": [
       "<Figure size 1440x432 with 1 Axes>"
      ]
     },
     "metadata": {},
     "output_type": "display_data"
    }
   ],
   "source": [
    "revenue_month = cleaned_df.copy()\n",
    "revenue_month[\"Day\"] = [d.date() for d in revenue_month[\"InvoiceDate\"]]\n",
    "xy = revenue_month.groupby(\"Day\", as_index=False)[\"Revenue\"].sum()\n",
    "xy.head()\n",
    "plt.figure(figsize=(20, 6));\n",
    "sns.lineplot(data=xy, x=\"Day\", y=\"Revenue\", palette=\"tab10\", linewidth=2.5);\n",
    "plt.title(\"Revenue for the Year\");\n",
    "print(cleaned_df.groupby(\"InvoiceDate\", as_index=False)[\"Revenue\"].sum().sort_values(\"Revenue\", ascending=False).head())"
   ]
  },
  {
   "cell_type": "markdown",
   "metadata": {},
   "source": [
    "- Remarkably it shows that the peak revenue months are during the beginning of the year and the end of the year. With the peak at the end of the year being twice the peak at the beginning of the year."
   ]
  },
  {
   "cell_type": "code",
   "execution_count": 10,
   "metadata": {},
   "outputs": [
    {
     "name": "stdout",
     "output_type": "stream",
     "text": [
      "                             Description    Revenue  PCT of Revenue\n",
      "2319         PAPER CRAFT , LITTLE BIRDIE  168469.60            1.92\n",
      "2767            REGENCY CAKESTAND 3 TIER  142592.95            1.62\n",
      "3698  WHITE HANGING HEART T-LIGHT HOLDER  100448.15            1.14\n",
      "1762             JUMBO BAG RED RETROSPOT   85220.78            0.97\n",
      "1992      MEDIUM CERAMIC TOP STORAGE JAR   81416.73            0.93\n",
      "2345                       PARTY BUNTING   68844.33            0.78\n",
      "216        ASSORTED COLOUR BIRD ORNAMENT   56580.34            0.64\n",
      "2656                  RABBIT NIGHT LIGHT   51346.20            0.58\n",
      "722                        CHILLI LIGHTS   46286.51            0.53\n",
      "2313     PAPER CHAIN KIT 50'S CHRISTMAS    42660.83            0.49\n",
      "\n",
      "\n",
      "The top 10 items make up 9.5% of sales!\n",
      "\n",
      "\n"
     ]
    },
    {
     "data": {
      "image/png": "[encoded data removed]",
      "text/plain": [
       "<Figure size 1080x720 with 1 Axes>"
      ]
     },
     "metadata": {},
     "output_type": "display_data"
    }
   ],
   "source": [
    "top_items = cleaned_df.copy()\n",
    "top_items = top_items.groupby(\"Description\", as_index=False)[\"Revenue\"].sum().sort_values(\"Revenue\", ascending=False)\n",
    "top_items_graph = top_items.head(10)\n",
    "top_items.drop([2611, 2130], inplace=True)\n",
    "top_items[\"PCT of Revenue\"] = round((top_items[\"Revenue\"]/top_items[\"Revenue\"].sum())*100, 2)\n",
    "\n",
    "plt.figure(figsize=(15,10));\n",
    "sns.barplot(x=\"Revenue\", y=\"Description\", data=top_items_graph, orient=\"h\");\n",
    "plt.title(\"Top 10 Items by Revenue\")\n",
    "print(top_items.head(10))\n",
    "print(\"\\n\")\n",
    "print(f\"The top 10 items make up 9.5% of sales!\" )\n",
    "print(\"\\n\")"
   ]
  },
  {
   "cell_type": "markdown",
   "metadata": {},
   "source": [
    "- The companies' revenue appears to be well diversified among various items. There are no real big hitter items that make up a majority of the companies' sales. For example, the top revenue generating item is a \"Little Birdie\" papercraft but even that only makes up about 1.92% of all sales. All in all the top 10 items make up only 9.5% of all revenue."
   ]
  },
  {
   "cell_type": "markdown",
   "metadata": {},
   "source": [
    "### 3. Customer LifeTime Value\n",
    "- We will now calculate the customer lifetime value of every customer. The formula we will use to calcualte this is ((Average Order Value * Purchase Frequency)/Churn Rate) * profit margin. \n",
    "- Customer Lifetime Value (CLTV) tells companies how much revenue they can expect one customer to generate over the course of the business relationship. The longer a customer continues to purchase from a company, the greater their lifetime value becomes."
   ]
  },
  {
   "cell_type": "code",
   "execution_count": 11,
   "metadata": {},
   "outputs": [
    {
     "data": {
      "text/html": [
       "<div>\n",
       "<style scoped>\n",
       "    .dataframe tbody tr th:only-of-type {\n",
       "        vertical-align: middle;\n",
       "    }\n",
       "\n",
       "    .dataframe tbody tr th {\n",
       "        vertical-align: top;\n",
       "    }\n",
       "\n",
       "    .dataframe thead th {\n",
       "        text-align: right;\n",
       "    }\n",
       "</style>\n",
       "<table border=\"1\" class=\"dataframe\">\n",
       "  <thead>\n",
       "    <tr style=\"text-align: right;\">\n",
       "      <th></th>\n",
       "      <th>InvoiceDate</th>\n",
       "      <th>InvoiceNo</th>\n",
       "      <th>Quantity</th>\n",
       "      <th>Revenue</th>\n",
       "      <th>AVG_order_value</th>\n",
       "      <th>Profit_margin</th>\n",
       "      <th>LTV</th>\n",
       "      <th>CLTV</th>\n",
       "    </tr>\n",
       "    <tr>\n",
       "      <th>CustomerID</th>\n",
       "      <th></th>\n",
       "      <th></th>\n",
       "      <th></th>\n",
       "      <th></th>\n",
       "      <th></th>\n",
       "      <th></th>\n",
       "      <th></th>\n",
       "      <th></th>\n",
       "    </tr>\n",
       "  </thead>\n",
       "  <tbody>\n",
       "    <tr>\n",
       "      <th>16446.0</th>\n",
       "      <td>204</td>\n",
       "      <td>3</td>\n",
       "      <td>80997</td>\n",
       "      <td>168472.50</td>\n",
       "      <td>56157.500000</td>\n",
       "      <td>13477.8000</td>\n",
       "      <td>3.103669e+08</td>\n",
       "      <td>4.183063e+12</td>\n",
       "    </tr>\n",
       "    <tr>\n",
       "      <th>12346.0</th>\n",
       "      <td>0</td>\n",
       "      <td>1</td>\n",
       "      <td>74215</td>\n",
       "      <td>77183.60</td>\n",
       "      <td>77183.600000</td>\n",
       "      <td>6174.6880</td>\n",
       "      <td>4.265723e+08</td>\n",
       "      <td>2.633951e+12</td>\n",
       "    </tr>\n",
       "    <tr>\n",
       "      <th>15098.0</th>\n",
       "      <td>0</td>\n",
       "      <td>3</td>\n",
       "      <td>121</td>\n",
       "      <td>39916.50</td>\n",
       "      <td>13305.500000</td>\n",
       "      <td>3193.3200</td>\n",
       "      <td>7.353580e+07</td>\n",
       "      <td>2.348233e+11</td>\n",
       "    </tr>\n",
       "    <tr>\n",
       "      <th>15749.0</th>\n",
       "      <td>97</td>\n",
       "      <td>10</td>\n",
       "      <td>18028</td>\n",
       "      <td>44534.30</td>\n",
       "      <td>4453.430000</td>\n",
       "      <td>3562.7440</td>\n",
       "      <td>2.461287e+07</td>\n",
       "      <td>8.768936e+10</td>\n",
       "    </tr>\n",
       "    <tr>\n",
       "      <th>18102.0</th>\n",
       "      <td>366</td>\n",
       "      <td>431</td>\n",
       "      <td>64124</td>\n",
       "      <td>259657.30</td>\n",
       "      <td>602.453132</td>\n",
       "      <td>20772.5840</td>\n",
       "      <td>3.329591e+06</td>\n",
       "      <td>6.916421e+10</td>\n",
       "    </tr>\n",
       "    <tr>\n",
       "      <th>17450.0</th>\n",
       "      <td>359</td>\n",
       "      <td>337</td>\n",
       "      <td>69993</td>\n",
       "      <td>194550.79</td>\n",
       "      <td>577.302047</td>\n",
       "      <td>15564.0632</td>\n",
       "      <td>3.190588e+06</td>\n",
       "      <td>4.965851e+10</td>\n",
       "    </tr>\n",
       "    <tr>\n",
       "      <th>17949.0</th>\n",
       "      <td>370</td>\n",
       "      <td>70</td>\n",
       "      <td>30546</td>\n",
       "      <td>58510.48</td>\n",
       "      <td>835.864000</td>\n",
       "      <td>4680.8384</td>\n",
       "      <td>4.619588e+06</td>\n",
       "      <td>2.162355e+10</td>\n",
       "    </tr>\n",
       "    <tr>\n",
       "      <th>14646.0</th>\n",
       "      <td>353</td>\n",
       "      <td>2080</td>\n",
       "      <td>197491</td>\n",
       "      <td>280206.02</td>\n",
       "      <td>134.714433</td>\n",
       "      <td>22416.4816</td>\n",
       "      <td>7.445292e+05</td>\n",
       "      <td>1.668973e+10</td>\n",
       "    </tr>\n",
       "    <tr>\n",
       "      <th>16029.0</th>\n",
       "      <td>335</td>\n",
       "      <td>242</td>\n",
       "      <td>40208</td>\n",
       "      <td>81024.84</td>\n",
       "      <td>334.813388</td>\n",
       "      <td>6481.9872</td>\n",
       "      <td>1.850421e+06</td>\n",
       "      <td>1.199440e+10</td>\n",
       "    </tr>\n",
       "    <tr>\n",
       "      <th>15769.0</th>\n",
       "      <td>363</td>\n",
       "      <td>130</td>\n",
       "      <td>29672</td>\n",
       "      <td>56252.72</td>\n",
       "      <td>432.713231</td>\n",
       "      <td>4500.2176</td>\n",
       "      <td>2.391486e+06</td>\n",
       "      <td>1.076221e+10</td>\n",
       "    </tr>\n",
       "  </tbody>\n",
       "</table>\n",
       "</div>"
      ],
      "text/plain": [
       "            InvoiceDate  InvoiceNo  Quantity    Revenue  AVG_order_value  \\\n",
       "CustomerID                                                                 \n",
       "16446.0             204          3     80997  168472.50     56157.500000   \n",
       "12346.0               0          1     74215   77183.60     77183.600000   \n",
       "15098.0               0          3       121   39916.50     13305.500000   \n",
       "15749.0              97         10     18028   44534.30      4453.430000   \n",
       "18102.0             366        431     64124  259657.30       602.453132   \n",
       "17450.0             359        337     69993  194550.79       577.302047   \n",
       "17949.0             370         70     30546   58510.48       835.864000   \n",
       "14646.0             353       2080    197491  280206.02       134.714433   \n",
       "16029.0             335        242     40208   81024.84       334.813388   \n",
       "15769.0             363        130     29672   56252.72       432.713231   \n",
       "\n",
       "            Profit_margin           LTV          CLTV  \n",
       "CustomerID                                             \n",
       "16446.0        13477.8000  3.103669e+08  4.183063e+12  \n",
       "12346.0         6174.6880  4.265723e+08  2.633951e+12  \n",
       "15098.0         3193.3200  7.353580e+07  2.348233e+11  \n",
       "15749.0         3562.7440  2.461287e+07  8.768936e+10  \n",
       "18102.0        20772.5840  3.329591e+06  6.916421e+10  \n",
       "17450.0        15564.0632  3.190588e+06  4.965851e+10  \n",
       "17949.0         4680.8384  4.619588e+06  2.162355e+10  \n",
       "14646.0        22416.4816  7.445292e+05  1.668973e+10  \n",
       "16029.0         6481.9872  1.850421e+06  1.199440e+10  \n",
       "15769.0         4500.2176  2.391486e+06  1.076221e+10  "
      ]
     },
     "execution_count": 11,
     "metadata": {},
     "output_type": "execute_result"
    }
   ],
   "source": [
    "cltv = cleaned_df.copy()\n",
    "cltv = cltv.groupby(\"CustomerID\").agg({\"InvoiceDate\": lambda date: (date.max()-date.min()).days,\n",
    "                                      \"InvoiceNo\": lambda num: len(num),\n",
    "                                      \"Quantity\": lambda quant: quant.sum(),\n",
    "                                      \"Revenue\": lambda price: price.sum()})\n",
    "\n",
    "cltv[\"AVG_order_value\"] = cltv[\"Revenue\"]/cltv[\"InvoiceNo\"]\n",
    "purchase_freq = cltv[\"InvoiceNo\"].sum()/cltv.shape[0]\n",
    "x = cltv[cltv[\"InvoiceNo\"] > 1].shape[0] / cltv.shape[0]\n",
    "churn = 1-x\n",
    "# since this is a wholesaler the margins should be slightly higher\n",
    "cltv[\"Profit_margin\"] = cltv[\"Revenue\"]*0.08\n",
    "cltv[\"LTV\"] = (cltv[\"AVG_order_value\"] * purchase_freq)/churn\n",
    "cltv[\"CLTV\"] = cltv[\"LTV\"] * cltv[\"Profit_margin\"]\n",
    "cltv.sort_values(\"CLTV\", ascending= False).head(10)"
   ]
  },
  {
   "cell_type": "markdown",
   "metadata": {},
   "source": [
    "- We have now customer lifetime values for all customers allowing us to identify which customers will be the most profitable in the long run.\n",
    "- The above table also shows each customers total quantity ordered, the total revenue generated, average order value, and their profit margin."
   ]
  },
  {
   "cell_type": "markdown",
   "metadata": {},
   "source": [
    "### 4. RFM Analysis\n",
    "- Another way we can segment customers is through the use of RFM analysis. RFM stands for recency, frequency. and monetary. Recency is the time since the customer last ordered. Frequency is the average time between customer orders. Monetary is average transaction value. The idea is recency represents the freshness of the customer transaction. The more frequently a customer buys the more satisfied they are with your business. While monetary helps differentiate heavy spenders from low spenders.\n",
    "- Users are then ranked by percentile with top 20% getting a score of 5, next 20% getting a score of 4 and so on. We can then add these scores together to determine how good of a customer they are. "
   ]
  },
  {
   "cell_type": "code",
   "execution_count": 12,
   "metadata": {},
   "outputs": [
    {
     "data": {
      "text/html": [
       "<div>\n",
       "<style scoped>\n",
       "    .dataframe tbody tr th:only-of-type {\n",
       "        vertical-align: middle;\n",
       "    }\n",
       "\n",
       "    .dataframe tbody tr th {\n",
       "        vertical-align: top;\n",
       "    }\n",
       "\n",
       "    .dataframe thead th {\n",
       "        text-align: right;\n",
       "    }\n",
       "</style>\n",
       "<table border=\"1\" class=\"dataframe\">\n",
       "  <thead>\n",
       "    <tr style=\"text-align: right;\">\n",
       "      <th></th>\n",
       "      <th>M</th>\n",
       "      <th>R</th>\n",
       "      <th>F</th>\n",
       "    </tr>\n",
       "    <tr>\n",
       "      <th>CustomerID</th>\n",
       "      <th></th>\n",
       "      <th></th>\n",
       "      <th></th>\n",
       "    </tr>\n",
       "  </thead>\n",
       "  <tbody>\n",
       "    <tr>\n",
       "      <th>12346.0</th>\n",
       "      <td>77183.60</td>\n",
       "      <td>347</td>\n",
       "      <td>1.0</td>\n",
       "    </tr>\n",
       "    <tr>\n",
       "      <th>12347.0</th>\n",
       "      <td>4310.00</td>\n",
       "      <td>24</td>\n",
       "      <td>182.0</td>\n",
       "    </tr>\n",
       "    <tr>\n",
       "      <th>12348.0</th>\n",
       "      <td>1797.24</td>\n",
       "      <td>97</td>\n",
       "      <td>31.0</td>\n",
       "    </tr>\n",
       "    <tr>\n",
       "      <th>12349.0</th>\n",
       "      <td>1757.55</td>\n",
       "      <td>40</td>\n",
       "      <td>73.0</td>\n",
       "    </tr>\n",
       "    <tr>\n",
       "      <th>12350.0</th>\n",
       "      <td>334.40</td>\n",
       "      <td>332</td>\n",
       "      <td>17.0</td>\n",
       "    </tr>\n",
       "  </tbody>\n",
       "</table>\n",
       "</div>"
      ],
      "text/plain": [
       "                   M    R      F\n",
       "CustomerID                      \n",
       "12346.0     77183.60  347    1.0\n",
       "12347.0      4310.00   24  182.0\n",
       "12348.0      1797.24   97   31.0\n",
       "12349.0      1757.55   40   73.0\n",
       "12350.0       334.40  332   17.0"
      ]
     },
     "execution_count": 12,
     "metadata": {},
     "output_type": "execute_result"
    }
   ],
   "source": [
    "rfm = cleaned_df.copy()\n",
    "t = dt.datetime(2012,1,1)\n",
    "r = rfm.groupby(\"CustomerID\").agg({\"Revenue\": lambda x:x.sum(), \"InvoiceDate\": lambda x:(t-x.max()).days})\n",
    "f = rfm.groupby([\"CustomerID\", \"InvoiceNo\"]).agg({\"Revenue\": lambda x:x.sum()})\n",
    "m = rfm.groupby(\"CustomerID\").agg({\"Revenue\": lambda x:len(x)})\n",
    "rfm_analysis = pd.merge(r,m, on=\"CustomerID\")\n",
    "rfm_analysis.rename(columns={\"InvoiceDate\":\"R\", \"Revenue_y\":\"F\", \"Revenue_x\":\"M\"}, inplace=True)\n",
    "rfm_analysis.head()"
   ]
  },
  {
   "cell_type": "code",
   "execution_count": 13,
   "metadata": {},
   "outputs": [],
   "source": [
    "quant = rfm_analysis.quantile(q=[0.20, 0.40, 0.60, 0.80])\n",
    "quant = quant.to_dict()\n",
    "table = rfm_analysis.copy()\n",
    "\n",
    "def RScore(x,p,d):\n",
    "    if x <= d[p][0.20]:\n",
    "        return 1\n",
    "    elif x <= d[p][0.40]:\n",
    "        return 2\n",
    "    elif x <= d[p][0.60]:\n",
    "        return 3\n",
    "    elif x <= d[p][0.80]:\n",
    "        return 4\n",
    "    else:\n",
    "        return 5\n",
    "            \n",
    "table[\"F_Quant\"] = table[\"F\"].apply(RScore, args=(\"F\", quant))\n",
    "table = table.sort_values(\"R\", ascending=True)\n",
    "table[\"R_Quant\"] = pd.qcut(table[\"R\"], 5, labels=False)\n",
    "table[\"M_Quant\"] = pd.qcut(table[\"M\"], 5, labels=False)\n",
    "rfm_analysis[\"RFM_Score\"] = table[\"R_Quant\"].map(str) + table[\"F_Quant\"].map(str) + table[\"M_Quant\"].map(str)\n",
    "rfm_analysis[\"Score_Sum\"] = table[\"R_Quant\"] + table[\"F_Quant\"] + table[\"M_Quant\"]"
   ]
  },
  {
   "cell_type": "code",
   "execution_count": 14,
   "metadata": {},
   "outputs": [
    {
     "data": {
      "text/html": [
       "<div>\n",
       "<style scoped>\n",
       "    .dataframe tbody tr th:only-of-type {\n",
       "        vertical-align: middle;\n",
       "    }\n",
       "\n",
       "    .dataframe tbody tr th {\n",
       "        vertical-align: top;\n",
       "    }\n",
       "\n",
       "    .dataframe thead th {\n",
       "        text-align: right;\n",
       "    }\n",
       "</style>\n",
       "<table border=\"1\" class=\"dataframe\">\n",
       "  <thead>\n",
       "    <tr style=\"text-align: right;\">\n",
       "      <th></th>\n",
       "      <th>R</th>\n",
       "      <th>F</th>\n",
       "      <th>M</th>\n",
       "      <th>RFM_Score</th>\n",
       "      <th>Score_Sum</th>\n",
       "    </tr>\n",
       "    <tr>\n",
       "      <th>CustomerID</th>\n",
       "      <th></th>\n",
       "      <th></th>\n",
       "      <th></th>\n",
       "      <th></th>\n",
       "      <th></th>\n",
       "    </tr>\n",
       "  </thead>\n",
       "  <tbody>\n",
       "    <tr>\n",
       "      <th>12346.0</th>\n",
       "      <td>347</td>\n",
       "      <td>1.0</td>\n",
       "      <td>77183.60</td>\n",
       "      <td>414</td>\n",
       "      <td>9</td>\n",
       "    </tr>\n",
       "    <tr>\n",
       "      <th>12347.0</th>\n",
       "      <td>24</td>\n",
       "      <td>182.0</td>\n",
       "      <td>4310.00</td>\n",
       "      <td>054</td>\n",
       "      <td>9</td>\n",
       "    </tr>\n",
       "    <tr>\n",
       "      <th>12348.0</th>\n",
       "      <td>97</td>\n",
       "      <td>31.0</td>\n",
       "      <td>1797.24</td>\n",
       "      <td>333</td>\n",
       "      <td>9</td>\n",
       "    </tr>\n",
       "    <tr>\n",
       "      <th>12349.0</th>\n",
       "      <td>40</td>\n",
       "      <td>73.0</td>\n",
       "      <td>1757.55</td>\n",
       "      <td>143</td>\n",
       "      <td>8</td>\n",
       "    </tr>\n",
       "    <tr>\n",
       "      <th>12350.0</th>\n",
       "      <td>332</td>\n",
       "      <td>17.0</td>\n",
       "      <td>334.40</td>\n",
       "      <td>421</td>\n",
       "      <td>7</td>\n",
       "    </tr>\n",
       "  </tbody>\n",
       "</table>\n",
       "</div>"
      ],
      "text/plain": [
       "              R      F         M RFM_Score  Score_Sum\n",
       "CustomerID                                           \n",
       "12346.0     347    1.0  77183.60       414          9\n",
       "12347.0      24  182.0   4310.00       054          9\n",
       "12348.0      97   31.0   1797.24       333          9\n",
       "12349.0      40   73.0   1757.55       143          8\n",
       "12350.0     332   17.0    334.40       421          7"
      ]
     },
     "execution_count": 14,
     "metadata": {},
     "output_type": "execute_result"
    }
   ],
   "source": [
    "final = rfm_analysis[[\"R\", \"F\", \"M\", \"RFM_Score\", \"Score_Sum\"]]\n",
    "final.head()"
   ]
  },
  {
   "cell_type": "markdown",
   "metadata": {},
   "source": [
    "- We now have a credible score to classify our customers with. With a top score of 15 being a near perfect customer who purchases frequently and brings in the most revenue."
   ]
  },
  {
   "cell_type": "markdown",
   "metadata": {},
   "source": [
    "### 5. K-means customer segmentation\n",
    "- The final customer segmentation technique is also the most computer intensive, it is a computer algorithm called K-means. Kmeans clustering is a clustering technique to divide data into different groups where the observations in each group are similar to one another. A goal of clustering is to identify significant and meaningful groups of data. The variables we will use to segment our customers will be our \"RFM\" columns that we made in our last section."
   ]
  },
  {
   "cell_type": "code",
   "execution_count": 18,
   "metadata": {},
   "outputs": [
    {
     "data": {
      "image/png": "[encoded data removed]",
      "text/plain": [
       "<Figure size 432x288 with 1 Axes>"
      ]
     },
     "metadata": {},
     "output_type": "display_data"
    }
   ],
   "source": [
    "cluster_analysis = final[[\"R\", \"F\", \"M\"]].copy()\n",
    "scaler = MinMaxScaler()\n",
    "scaled_x = scaler.fit_transform(cluster_analysis)\n",
    "x = pd.DataFrame(scaled_x)\n",
    "\n",
    "clusters = []\n",
    "for i in range(1,10):\n",
    "    kmeans = KMeans(n_clusters=i, init=\"k-means++\", random_state=40)\n",
    "    kmeans.fit(x)\n",
    "    clusters.append(kmeans.inertia_)\n",
    "\n",
    "plt.plot(range(1,10), clusters, marker=\"*\", c=\"blue\");\n",
    "plt.title(\"Elbow Method\");"
   ]
  },
  {
   "cell_type": "code",
   "execution_count": 19,
   "metadata": {},
   "outputs": [
    {
     "data": {
      "text/html": [
       "<div>\n",
       "<style scoped>\n",
       "    .dataframe tbody tr th:only-of-type {\n",
       "        vertical-align: middle;\n",
       "    }\n",
       "\n",
       "    .dataframe tbody tr th {\n",
       "        vertical-align: top;\n",
       "    }\n",
       "\n",
       "    .dataframe thead th {\n",
       "        text-align: right;\n",
       "    }\n",
       "</style>\n",
       "<table border=\"1\" class=\"dataframe\">\n",
       "  <thead>\n",
       "    <tr style=\"text-align: right;\">\n",
       "      <th></th>\n",
       "      <th>R</th>\n",
       "      <th>F</th>\n",
       "      <th>M</th>\n",
       "    </tr>\n",
       "    <tr>\n",
       "      <th>cluster</th>\n",
       "      <th></th>\n",
       "      <th></th>\n",
       "      <th></th>\n",
       "    </tr>\n",
       "  </thead>\n",
       "  <tbody>\n",
       "    <tr>\n",
       "      <th>0</th>\n",
       "      <td>105.823529</td>\n",
       "      <td>51.886210</td>\n",
       "      <td>1014.687408</td>\n",
       "    </tr>\n",
       "    <tr>\n",
       "      <th>1</th>\n",
       "      <td>215.018395</td>\n",
       "      <td>34.443144</td>\n",
       "      <td>721.201958</td>\n",
       "    </tr>\n",
       "    <tr>\n",
       "      <th>2</th>\n",
       "      <td>41.800634</td>\n",
       "      <td>141.265519</td>\n",
       "      <td>3237.989697</td>\n",
       "    </tr>\n",
       "    <tr>\n",
       "      <th>3</th>\n",
       "      <td>330.486922</td>\n",
       "      <td>23.637827</td>\n",
       "      <td>566.710322</td>\n",
       "    </tr>\n",
       "  </tbody>\n",
       "</table>\n",
       "</div>"
      ],
      "text/plain": [
       "                  R           F            M\n",
       "cluster                                     \n",
       "0        105.823529   51.886210  1014.687408\n",
       "1        215.018395   34.443144   721.201958\n",
       "2         41.800634  141.265519  3237.989697\n",
       "3        330.486922   23.637827   566.710322"
      ]
     },
     "execution_count": 19,
     "metadata": {},
     "output_type": "execute_result"
    }
   ],
   "source": [
    "kk = KMeans(n_clusters=4, init=\"k-means++\", n_init=10, max_iter=300)\n",
    "kk.fit(x)\n",
    "pred = kk.predict(x)\n",
    "score = silhouette_score(x, kk.labels_)\n",
    "y_kmeans = kk.predict(x)\n",
    "d = pd.DataFrame(cluster_analysis)\n",
    "d[\"cluster\"] = y_kmeans\n",
    "d.groupby(\"cluster\").mean()"
   ]
  },
  {
   "cell_type": "markdown",
   "metadata": {},
   "source": [
    "- As you can see our algorithm has segmented our customers into 4 distinct clusters based on our \"RFM\" columns. If we had demographic data on our customers our clusters would be even more distinct. However, with the clusters we have now we have a pretty good idea on our customers spending habits. \n",
    "- For example, cluster 2 has the highest time between purchases but they end up generating a sizeable amount of revenue. \n",
    "- While cluster 3 hasnt bought anytime recently and when they do buy its frequent small purchases."
   ]
  },
  {
   "cell_type": "code",
   "execution_count": null,
   "metadata": {},
   "outputs": [],
   "source": []
  }
 ],
 "metadata": {
  "kernelspec": {
   "display_name": "large_retailer",
   "language": "python",
   "name": "large_retailer"
  },
  "language_info": {
   "codemirror_mode": {
    "name": "ipython",
    "version": 3
   },
   "file_extension": ".py",
   "mimetype": "text/x-python",
   "name": "python",
   "nbconvert_exporter": "python",
   "pygments_lexer": "ipython3",
   "version": "3.7.6"
  }
 },
 "nbformat": 4,
 "nbformat_minor": 4
}
